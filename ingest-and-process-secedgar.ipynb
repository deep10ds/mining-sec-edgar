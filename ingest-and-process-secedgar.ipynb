{
 "cells": [
  {
   "cell_type": "markdown",
   "id": "3b79cd32-3f61-4388-a5aa-c865955dfa32",
   "metadata": {},
   "source": [
    "[sec official endpoints](https://www.sec.gov/developer)\n",
    "\n",
    "[sec edgar](https://www.sec.gov/edgar/)\n",
    "\n",
    "[python tool](https://sec-edgar.github.io/sec-edgar/)"
   ]
  },
  {
   "cell_type": "code",
   "execution_count": 8,
   "id": "55acea04-f822-4c76-87c8-c155a2e29e1f",
   "metadata": {},
   "outputs": [],
   "source": [
    "import nest_asyncio\n",
    "nest_asyncio.apply()"
   ]
  },
  {
   "cell_type": "code",
   "execution_count": 19,
   "id": "2282c9ae-50e5-4350-8b3f-638538a17c9d",
   "metadata": {},
   "outputs": [
    {
     "name": "stderr",
     "output_type": "stream",
     "text": [
      "/usr/lib/python3.8/threading.py:225: RuntimeWarning: coroutine 'NetworkClient.wait_for_download_async' was never awaited\n",
      "  self._lock = lock\n",
      "RuntimeWarning: Enable tracemalloc to get the object allocation traceback\n",
      "/home/stan/github-02/secedgar-eval/venv/lib/python3.8/site-packages/secedgar/filings/filing.py:182: UserWarning: Only 24 of 1326380 filings were found for 1326380.\n",
      "  warnings.warn(\"Only {num} of {count} filings were found for {cik}.\".format(\n",
      "30it [00:03,  8.68it/s]                        \n"
     ]
    }
   ],
   "source": [
    "from secedgar.filings import Filing, FilingType\n",
    "\n",
    "# 10Q filings for Apple (ticker \"aapl\")\n",
    "from secedgar.filings import Filing, FilingType\n",
    "\n",
    "my_filings = Filing(cik_lookup=['gme'],\n",
    "                    filing_type=FilingType.FILING_10K,\n",
    "                    count=1326380,\n",
    "                   user_agent='deeptendies')\n",
    "\n",
    "my_filings.save('filings')"
   ]
  },
  {
   "cell_type": "code",
   "execution_count": 53,
   "id": "eca1cdc3-5300-4d1c-8446-ed48a3eae0b8",
   "metadata": {},
   "outputs": [
    {
     "name": "stdout",
     "output_type": "stream",
     "text": [
      "filings/gme/10-k/0001326380-17-000046.txt\n"
     ]
    },
    {
     "name": "stderr",
     "output_type": "stream",
     "text": [
      "Warning: Trailing garbage\n"
     ]
    },
    {
     "name": "stdout",
     "output_type": "stream",
     "text": [
      "filings/gme/10-k/0001326380-20-000022.txt\n"
     ]
    },
    {
     "name": "stderr",
     "output_type": "stream",
     "text": [
      "Warning: Trailing garbage\n"
     ]
    },
    {
     "name": "stdout",
     "output_type": "stream",
     "text": [
      "filings/gme/10-k/0000950123-11-030842.txt\n"
     ]
    },
    {
     "name": "stderr",
     "output_type": "stream",
     "text": [
      "Warning: Trailing garbage\n"
     ]
    },
    {
     "name": "stdout",
     "output_type": "stream",
     "text": [
      "filings/gme/10-k/0001326380-18-000033.txt\n"
     ]
    },
    {
     "name": "stderr",
     "output_type": "stream",
     "text": [
      "Warning: Trailing garbage\n",
      "Warning: Trailing garbage\n"
     ]
    },
    {
     "name": "stdout",
     "output_type": "stream",
     "text": [
      "filings/gme/10-k/0000950134-09-006730.txt\n",
      "filings/gme/10-k/0001326380-16-000323.txt\n"
     ]
    },
    {
     "name": "stderr",
     "output_type": "stream",
     "text": [
      "Warning: Trailing garbage\n",
      "Warning: Trailing garbage\n",
      "Warning: Trailing garbage\n",
      "Warning: Trailing garbage\n"
     ]
    },
    {
     "name": "stdout",
     "output_type": "stream",
     "text": [
      "filings/gme/10-k/0001193125-12-134615.txt\n"
     ]
    },
    {
     "name": "stderr",
     "output_type": "stream",
     "text": [
      "Warning: Trailing garbage\n"
     ]
    },
    {
     "name": "stdout",
     "output_type": "stream",
     "text": [
      "filings/gme/10-k/0001326380-19-000052.txt\n"
     ]
    },
    {
     "name": "stderr",
     "output_type": "stream",
     "text": [
      "Warning: Trailing garbage\n",
      "Warning: Trailing garbage\n",
      "Warning: Trailing garbage\n"
     ]
    },
    {
     "name": "stdout",
     "output_type": "stream",
     "text": [
      "filings/gme/10-k/0001445305-14-001259.txt\n"
     ]
    },
    {
     "name": "stderr",
     "output_type": "stream",
     "text": [
      "Warning: Trailing garbage\n",
      "Warning: Trailing garbage\n"
     ]
    },
    {
     "name": "stdout",
     "output_type": "stream",
     "text": [
      "filings/gme/10-k/0001326380-16-000320.txt\n"
     ]
    },
    {
     "name": "stderr",
     "output_type": "stream",
     "text": [
      "Warning: Trailing garbage\n",
      "Warning: Trailing garbage\n",
      "Warning: Trailing garbage\n"
     ]
    },
    {
     "name": "stdout",
     "output_type": "stream",
     "text": [
      "filings/gme/10-k/0000950123-10-030164.txt\n"
     ]
    },
    {
     "name": "stderr",
     "output_type": "stream",
     "text": [
      "Warning: Trailing garbage\n"
     ]
    },
    {
     "name": "stdout",
     "output_type": "stream",
     "text": [
      "filings/gme/10-k/0000950134-06-006576.txt\n",
      "filings/gme/10-k/0001193125-13-140443.txt\n"
     ]
    },
    {
     "name": "stderr",
     "output_type": "stream",
     "text": [
      "Warning: Trailing garbage\n",
      "Warning: Trailing garbage\n"
     ]
    },
    {
     "name": "stdout",
     "output_type": "stream",
     "text": [
      "filings/gme/10-k/0000950134-07-007555.txt\n",
      "filings/gme/10-k/0000950134-08-005892.txt\n",
      "filings/gme/10-k/0001326380-21-000032.txt\n"
     ]
    },
    {
     "name": "stderr",
     "output_type": "stream",
     "text": [
      "Warning: Trailing garbage\n",
      "Warning: Trailing garbage\n",
      "Warning: Trailing garbage\n"
     ]
    },
    {
     "name": "stdout",
     "output_type": "stream",
     "text": [
      "filings/gme/10-k/0001326380-15-000078.txt\n"
     ]
    },
    {
     "name": "stderr",
     "output_type": "stream",
     "text": [
      "Warning: Trailing garbage\n",
      "Warning: Trailing garbage\n"
     ]
    }
   ],
   "source": [
    "import glob\n",
    "from secedgar.parser import MetaParser\n",
    "\n",
    "directory='filings'\n",
    "for filepath in glob.iglob('filings/*/*/*.txt'):\n",
    "    print(filepath)\n",
    "    parser=MetaParser()\n",
    "    parser.process(infile=filepath, out_dir='parsed_filings', create_subdir=True, rm_infile = False)"
   ]
  },
  {
   "cell_type": "markdown",
   "id": "c0d34255-7bdd-40ad-9eb6-cc2b7de71bda",
   "metadata": {},
   "source": [
    "After parsing, the parsed data will be created at "
   ]
  }
 ],
 "metadata": {
  "kernelspec": {
   "display_name": "Python 3",
   "language": "python",
   "name": "python3"
  },
  "language_info": {
   "codemirror_mode": {
    "name": "ipython",
    "version": 3
   },
   "file_extension": ".py",
   "mimetype": "text/x-python",
   "name": "python",
   "nbconvert_exporter": "python",
   "pygments_lexer": "ipython3",
   "version": "3.8.5"
  }
 },
 "nbformat": 4,
 "nbformat_minor": 5
}
