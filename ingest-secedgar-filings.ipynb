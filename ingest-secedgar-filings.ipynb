{
 "cells": [
  {
   "cell_type": "markdown",
   "id": "3b79cd32-3f61-4388-a5aa-c865955dfa32",
   "metadata": {},
   "source": [
    "[sec official endpoints](https://www.sec.gov/developer)\n",
    "\n",
    "[sec edgar](https://www.sec.gov/edgar/)\n",
    "\n",
    "[python tool](https://sec-edgar.github.io/sec-edgar/)"
   ]
  },
  {
   "cell_type": "code",
   "execution_count": 8,
   "id": "55acea04-f822-4c76-87c8-c155a2e29e1f",
   "metadata": {},
   "outputs": [],
   "source": [
    "import nest_asyncio\n",
    "nest_asyncio.apply()"
   ]
  },
  {
   "cell_type": "code",
   "execution_count": 19,
   "id": "2282c9ae-50e5-4350-8b3f-638538a17c9d",
   "metadata": {},
   "outputs": [
    {
     "name": "stderr",
     "output_type": "stream",
     "text": [
      "/usr/lib/python3.8/threading.py:225: RuntimeWarning: coroutine 'NetworkClient.wait_for_download_async' was never awaited\n",
      "  self._lock = lock\n",
      "RuntimeWarning: Enable tracemalloc to get the object allocation traceback\n",
      "/home/stan/github-02/secedgar-eval/venv/lib/python3.8/site-packages/secedgar/filings/filing.py:182: UserWarning: Only 24 of 1326380 filings were found for 1326380.\n",
      "  warnings.warn(\"Only {num} of {count} filings were found for {cik}.\".format(\n",
      "30it [00:03,  8.68it/s]                        \n"
     ]
    }
   ],
   "source": [
    "from secedgar.filings import Filing, FilingType\n",
    "\n",
    "# 10Q filings for Apple (ticker \"aapl\")\n",
    "from secedgar.filings import Filing, FilingType\n",
    "\n",
    "my_filings = Filing(cik_lookup=['gme'],\n",
    "                    filing_type=FilingType.FILING_10K,\n",
    "                    count=1326380,\n",
    "                   user_agent='deeptendies')\n",
    "\n",
    "my_filings.save('filings')"
   ]
  },
  {
   "cell_type": "code",
   "execution_count": null,
   "id": "eca1cdc3-5300-4d1c-8446-ed48a3eae0b8",
   "metadata": {},
   "outputs": [],
   "source": []
  }
 ],
 "metadata": {
  "kernelspec": {
   "display_name": "Python 3",
   "language": "python",
   "name": "python3"
  },
  "language_info": {
   "codemirror_mode": {
    "name": "ipython",
    "version": 3
   },
   "file_extension": ".py",
   "mimetype": "text/x-python",
   "name": "python",
   "nbconvert_exporter": "python",
   "pygments_lexer": "ipython3",
   "version": "3.8.5"
  }
 },
 "nbformat": 4,
 "nbformat_minor": 5
}
